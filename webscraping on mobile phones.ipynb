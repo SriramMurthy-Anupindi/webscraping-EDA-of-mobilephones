{
 "cells": [
  {
   "cell_type": "markdown",
   "metadata": {},
   "source": [
    "## Importing Required Libraries for webscraping"
   ]
  },
  {
   "cell_type": "code",
   "execution_count": 1,
   "metadata": {},
   "outputs": [],
   "source": [
    "import numpy as np\n",
    "import pandas as pd\n",
    "import re\n",
    "import requests\n",
    "from bs4 import BeautifulSoup\n",
    "import time\n",
    "import matplotlib.pyplot as plt\n",
    "import seaborn as sns\n",
    "%matplotlib inline\n",
    "import warnings\n",
    "warnings.filterwarnings(\"ignore\")"
   ]
  },
  {
   "cell_type": "code",
   "execution_count": null,
   "metadata": {},
   "outputs": [],
   "source": [
    "url='https://www.flipkart.com/search?q=mobiles&as=on&as-show=on&otracker=AS_Query_TrendingAutoSuggest_1_0_na_na_na&otracker1=AS_Query_TrendingAutoSuggest_1_0_na_na_na&as-pos=1&as-type=TRENDING&suggestionId=mobiles&requestId=d953a4a0-45b3-470c-99df-a7bc465c1a58'"
   ]
  },
  {
   "cell_type": "code",
   "execution_count": null,
   "metadata": {},
   "outputs": [],
   "source": [
    "page=requests.get(url)"
   ]
  },
  {
   "cell_type": "code",
   "execution_count": null,
   "metadata": {},
   "outputs": [],
   "source": [
    "page.status_code"
   ]
  },
  {
   "cell_type": "code",
   "execution_count": null,
   "metadata": {},
   "outputs": [],
   "source": [
    "pagecontent=page.text"
   ]
  },
  {
   "cell_type": "code",
   "execution_count": null,
   "metadata": {},
   "outputs": [],
   "source": [
    "mobi=BeautifulSoup(pagecontent)"
   ]
  },
  {
   "cell_type": "code",
   "execution_count": null,
   "metadata": {},
   "outputs": [],
   "source": [
    "mobi.find_all(\"div\",attrs={\"class\":\"_30jeq3 _1_WHN1\"})"
   ]
  },
  {
   "cell_type": "code",
   "execution_count": null,
   "metadata": {},
   "outputs": [],
   "source": [
    "mobi.find_all(\"div\",attrs={\"class\":\"_4rR01T\"})"
   ]
  },
  {
   "cell_type": "code",
   "execution_count": null,
   "metadata": {},
   "outputs": [],
   "source": [
    "for tech in mobi.find_all(\"div\",attrs={\"class\":\"_4rR01T\"}):\n",
    "    print(tech.text)"
   ]
  },
  {
   "cell_type": "code",
   "execution_count": null,
   "metadata": {},
   "outputs": [],
   "source": [
    "mobi.find_all(\"ul\",attrs={\"class\":\"_1xgFaf\"})\n"
   ]
  },
  {
   "cell_type": "code",
   "execution_count": null,
   "metadata": {},
   "outputs": [],
   "source": [
    "for tech in mobi.find_all(\"div\",attrs={\"class\":'_3LWZlK'}):\n",
    "    print(tech.text)"
   ]
  },
  {
   "cell_type": "code",
   "execution_count": 4,
   "metadata": {},
   "outputs": [
    {
     "name": "stdout",
     "output_type": "stream",
     "text": [
      "Page 1 completed in 0.8339383602142334 seconds\n",
      "Page 2 completed in 0.8324630260467529 seconds\n",
      "Page 3 completed in 0.7397351264953613 seconds\n",
      "Page 4 completed in 0.762120246887207 seconds\n",
      "Page 5 completed in 0.9728705883026123 seconds\n",
      "Page 6 completed in 0.9151496887207031 seconds\n",
      "Page 7 completed in 0.9389908313751221 seconds\n",
      "Page 8 completed in 0.7165882587432861 seconds\n",
      "Page 9 completed in 0.881019115447998 seconds\n",
      "Page 10 completed in 0.9300334453582764 seconds\n",
      "Page 11 completed in 0.9025230407714844 seconds\n",
      "Page 12 completed in 0.7182841300964355 seconds\n",
      "Page 13 completed in 0.928473949432373 seconds\n",
      "Page 14 completed in 0.9120383262634277 seconds\n",
      "Page 15 completed in 0.8321666717529297 seconds\n",
      "Page 16 completed in 0.9264671802520752 seconds\n",
      "Page 17 completed in 0.833479642868042 seconds\n",
      "Page 18 completed in 0.6836450099945068 seconds\n",
      "Page 19 completed in 0.7653796672821045 seconds\n",
      "Page 20 completed in 1.075859785079956 seconds\n",
      "Page 21 completed in 0.4749431610107422 seconds\n",
      "Page 22 completed in 0.9700438976287842 seconds\n",
      "Page 23 completed in 0.8730411529541016 seconds\n"
     ]
    }
   ],
   "source": [
    "productname = []\n",
    "rating = []\n",
    "price = []\n",
    "features = []\n",
    "pagenum = []\n",
    "\n",
    "\n",
    "for i in range(1,24):\n",
    "    start_time = time.time()\n",
    "    URL = \" https://www.flipkart.com/search?q=mobiles&as=on&as-show=on&otracker=AS_Query_TrendingAutoSuggest_1_0_na_na_na&otracker1=AS_Query_TrendingAutoSuggest_1_0_na_na_na&as-pos=1&as-type=TRENDING&suggestionId=mobiles&requestId=d953a4a0-45b3-470c-99df-a7bc465c1a58={}\".format(i)\n",
    "    page=requests.get(URL)\n",
    "    pagecontent = page.text\n",
    "    soup = BeautifulSoup(pagecontent)\n",
    "    \n",
    "    for y in soup.find_all('div',attrs = {'class':'_13oc-S'}):\n",
    "        pname = y.find('div',attrs = {'class':'_4rR01T'})\n",
    "        cost = y.find('div',attrs ={'class':'_30jeq3 _1_WHN1'})\n",
    "        rat = y.find('div',attrs = {'class':'_3LWZlK'})\n",
    "        specs = y.find('ul',attrs = {'class':'_1xgFaf'})\n",
    "        \n",
    "        \n",
    "        if pname is None:\n",
    "            productname.append(np.NaN)\n",
    "        else:\n",
    "            productname.append(pname.text)\n",
    "        \n",
    "        if cost is None:\n",
    "            price.append(np.NaN)\n",
    "        else:\n",
    "            price.append(cost.text)\n",
    "            \n",
    "        if rat is None:\n",
    "            rating.append(np.NaN)\n",
    "        else:\n",
    "            rating.append(rat.text)\n",
    "        \n",
    "        if specs is None:\n",
    "            features.append(np.NaN)\n",
    "        else:\n",
    "            features.append(specs.text)\n",
    "            \n",
    "      \n",
    "        pagenum.append(i)\n",
    "            \n",
    "    print('Page {} completed in {} seconds'.format(i,time.time()-start_time))"
   ]
  },
  {
   "cell_type": "code",
   "execution_count": null,
   "metadata": {},
   "outputs": [],
   "source": [
    "len(productname)\n",
    "# len(ratings)\n",
    "# len(features)\n",
    "# len(price)\n",
    "# len(pagenum)"
   ]
  },
  {
   "cell_type": "code",
   "execution_count": 3,
   "metadata": {},
   "outputs": [
    {
     "ename": "NameError",
     "evalue": "name 'productname' is not defined",
     "output_type": "error",
     "traceback": [
      "\u001b[1;31m---------------------------------------------------------------------------\u001b[0m",
      "\u001b[1;31mNameError\u001b[0m                                 Traceback (most recent call last)",
      "\u001b[1;32m<ipython-input-3-e80a61a1a68d>\u001b[0m in \u001b[0;36m<module>\u001b[1;34m\u001b[0m\n\u001b[1;32m----> 1\u001b[1;33m \u001b[0mmobile\u001b[0m\u001b[1;33m=\u001b[0m\u001b[0mpd\u001b[0m\u001b[1;33m.\u001b[0m\u001b[0mDataFrame\u001b[0m\u001b[1;33m(\u001b[0m\u001b[1;33m{\u001b[0m\u001b[1;34m\"Product\"\u001b[0m\u001b[1;33m:\u001b[0m\u001b[0mproductname\u001b[0m\u001b[1;33m,\u001b[0m\u001b[1;34m\"Price\"\u001b[0m\u001b[1;33m:\u001b[0m\u001b[0mprice\u001b[0m\u001b[1;33m,\u001b[0m\u001b[1;34m\"Features\"\u001b[0m\u001b[1;33m:\u001b[0m\u001b[0mfeatures\u001b[0m\u001b[1;33m,\u001b[0m\u001b[1;34m\"Rating\"\u001b[0m\u001b[1;33m:\u001b[0m\u001b[0mrating\u001b[0m\u001b[1;33m,\u001b[0m\u001b[1;34m\"PageNo\"\u001b[0m\u001b[1;33m:\u001b[0m\u001b[0mpagenum\u001b[0m\u001b[1;33m}\u001b[0m\u001b[1;33m)\u001b[0m\u001b[1;33m\u001b[0m\u001b[1;33m\u001b[0m\u001b[0m\n\u001b[0m",
      "\u001b[1;31mNameError\u001b[0m: name 'productname' is not defined"
     ]
    }
   ],
   "source": [
    "mobile=pd.DataFrame({\"Product\":productname,\"Price\":price,\"Features\":features,\"Rating\":rating,\"PageNo\":pagenum})"
   ]
  },
  {
   "cell_type": "code",
   "execution_count": null,
   "metadata": {},
   "outputs": [],
   "source": [
    "mobile.head()"
   ]
  },
  {
   "cell_type": "code",
   "execution_count": null,
   "metadata": {},
   "outputs": [],
   "source": [
    "mobile.to_csv(\"mobile_details.csv\")"
   ]
  },
  {
   "cell_type": "markdown",
   "metadata": {},
   "source": [
    "## Extracting Data using Regex"
   ]
  },
  {
   "cell_type": "code",
   "execution_count": null,
   "metadata": {},
   "outputs": [],
   "source": [
    "regex=r\"(^\\w+)+\\s\\w+\"\n",
    "mobile[\"Manufacturer\"]=mobile[\"Product\"].apply(lambda z:re.compile(regex).findall(z))"
   ]
  },
  {
   "cell_type": "code",
   "execution_count": null,
   "metadata": {},
   "outputs": [],
   "source": [
    "mobile.head()"
   ]
  },
  {
   "cell_type": "code",
   "execution_count": null,
   "metadata": {},
   "outputs": [],
   "source": [
    "regex=r\"^\\w+\\s\\w+\"\n",
    "mobile[\"Brand_Name\"]=mobile[\"Product\"].apply(lambda z: re.compile(regex).findall(z))"
   ]
  },
  {
   "cell_type": "code",
   "execution_count": null,
   "metadata": {},
   "outputs": [],
   "source": [
    "mobile.head()"
   ]
  },
  {
   "cell_type": "code",
   "execution_count": null,
   "metadata": {},
   "outputs": [],
   "source": [
    "regex=r\"\\s\\W+\\w+\\s\\w+\"\n",
    "mobile[\"Colour\"]=mobile[\"Product\"].apply(lambda z:re.compile(regex).findall(z))"
   ]
  },
  {
   "cell_type": "code",
   "execution_count": null,
   "metadata": {},
   "outputs": [],
   "source": [
    "mobile.head()"
   ]
  },
  {
   "cell_type": "code",
   "execution_count": null,
   "metadata": {},
   "outputs": [],
   "source": [
    "regex=r\"[0-9]\\s[GB][\\sa-zA-Z0-9]+RAM\"\n",
    "mobile[\"Memory\"]=mobile[\"Features\"].apply(lambda z: re.compile(regex).findall(z))"
   ]
  },
  {
   "cell_type": "code",
   "execution_count": null,
   "metadata": {},
   "outputs": [],
   "source": [
    "mobile.head()"
   ]
  },
  {
   "cell_type": "code",
   "execution_count": null,
   "metadata": {},
   "outputs": [],
   "source": [
    "regex=r\"[\\d]+\\s[?:GB]+\\s+ROM\"\n",
    "mobile[\"Storage\"]=mobile[\"Features\"].apply(lambda z: re.compile(regex).findall(z))"
   ]
  },
  {
   "cell_type": "code",
   "execution_count": null,
   "metadata": {},
   "outputs": [],
   "source": [
    "mobile.head()"
   ]
  },
  {
   "cell_type": "code",
   "execution_count": null,
   "metadata": {},
   "outputs": [],
   "source": [
    "regex=r\"\\s\\w+\\s\\w+[0-9\\s]+(?:GB|TB)\"\n",
    "mobile[\"Memory_Card\"]=mobile[\"Features\"].apply(lambda z:re.compile(regex).findall(z))"
   ]
  },
  {
   "cell_type": "code",
   "execution_count": null,
   "metadata": {},
   "outputs": [],
   "source": [
    "mobile.head()"
   ]
  },
  {
   "cell_type": "code",
   "execution_count": null,
   "metadata": {},
   "outputs": [],
   "source": [
    "regex=r\"\\d+\\smAh\"\n",
    "mobile[\"Battery\"]=mobile[\"Features\"].apply(lambda z: re.compile(regex).findall(z))"
   ]
  },
  {
   "cell_type": "code",
   "execution_count": null,
   "metadata": {},
   "outputs": [],
   "source": [
    "mobile.head()"
   ]
  },
  {
   "cell_type": "code",
   "execution_count": null,
   "metadata": {},
   "outputs": [],
   "source": [
    "regex=r\"\\s[A-Za-z0-9]+\\s[\\w+]+\\sProcessor\"\n",
    "mobile[\"Chipset\"]=mobile[\"Features\"].apply(lambda z:re.compile(regex).findall(z))"
   ]
  },
  {
   "cell_type": "code",
   "execution_count": null,
   "metadata": {},
   "outputs": [],
   "source": [
    "mobile.head()"
   ]
  },
  {
   "cell_type": "code",
   "execution_count": null,
   "metadata": {},
   "outputs": [],
   "source": [
    "regex=r\"[\\d]+MP\"\n",
    "mobile[\"Camera\"]=mobile[\"Features\"].apply(lambda z:re.compile(regex).findall(z))"
   ]
  },
  {
   "cell_type": "code",
   "execution_count": null,
   "metadata": {},
   "outputs": [],
   "source": [
    "mobile.head()"
   ]
  },
  {
   "cell_type": "code",
   "execution_count": null,
   "metadata": {},
   "outputs": [],
   "source": [
    "regex=r\"[\\d\\d.\\d\\d]+\\scm\"\n",
    "mobile[\"Display\"]=mobile[\"Features\"].apply(lambda z:re.compile(regex).findall(z))"
   ]
  },
  {
   "cell_type": "code",
   "execution_count": null,
   "metadata": {},
   "outputs": [],
   "source": [
    "mobile.head()"
   ]
  },
  {
   "cell_type": "markdown",
   "metadata": {},
   "source": [
    "## Cleaning our data"
   ]
  },
  {
   "cell_type": "code",
   "execution_count": null,
   "metadata": {},
   "outputs": [],
   "source": [
    "mobile.drop([\"PageNo\",\"Product\",\"Features\"],axis=1,inplace=True) ## Dropping columns which are of no use"
   ]
  },
  {
   "cell_type": "code",
   "execution_count": null,
   "metadata": {},
   "outputs": [],
   "source": [
    "mobile.rename(columns={\"Manufacturer\":\"Brand\",\"Brand_Name\":\"Model_Name\",\"Memory\":\"RAM_in_GB\",\"Storage\":\"ROM_in_GB\",\"Battery\":\"Battery_in_mAh\",\"Chipset\":\"Processor\",\"Memory_Card\":\"Expandable_Memory\",\"Display\":\"Display_in_cm\",\"Colour\":\"colour\"},inplace=True) ## Renaming the column names\n"
   ]
  },
  {
   "cell_type": "markdown",
   "metadata": {},
   "source": [
    "## Converting to string using join function"
   ]
  },
  {
   "cell_type": "code",
   "execution_count": null,
   "metadata": {},
   "outputs": [],
   "source": [
    "mobile.ROM_in_GB=mobile.ROM_in_GB.apply(lambda x:\"\".join(x))\n",
    "mobile.RAM_in_GB=mobile.RAM_in_GB.apply(lambda x:\"\".join(x))\n",
    "mobile.Battery_in_mAh=mobile.Battery_in_mAh.apply(lambda x:\"\".join(x))\n",
    "mobile.Processor=mobile.Processor.apply(lambda x:\"\".join(x))\n",
    "mobile.Expandable_Memory=mobile.Expandable_Memory.apply(lambda x:\"\".join(x))\n",
    "mobile.Camera=mobile.Camera.apply(lambda x:\"\".join(x))\n",
    "mobile.Display_in_cm=mobile.Display_in_cm.apply(lambda x:\"\".join(x))\n",
    "mobile.Brand=mobile.Brand.apply(lambda x:\"\".join(x))\n",
    "mobile.Model_Name=mobile.Model_Name.apply(lambda x:\"\".join(x))\n",
    "mobile.colour=mobile.colour.apply(lambda x:\"\".join(x))"
   ]
  },
  {
   "cell_type": "code",
   "execution_count": null,
   "metadata": {},
   "outputs": [],
   "source": [
    "mobile.head()"
   ]
  },
  {
   "cell_type": "markdown",
   "metadata": {},
   "source": [
    "## Replacing values using delimiter"
   ]
  },
  {
   "cell_type": "code",
   "execution_count": null,
   "metadata": {},
   "outputs": [],
   "source": [
    "mobile[\"Price\"]=mobile[\"Price\"].apply(lambda z: z.replace(\"₹\",\"\").replace(\",\",\"\")).astype(float)"
   ]
  },
  {
   "cell_type": "code",
   "execution_count": null,
   "metadata": {},
   "outputs": [],
   "source": [
    "mobile[\"RAM_in_GB\"]=mobile[\"RAM_in_GB\"].apply(lambda z: z.replace(\"GB RAM\",\"\"))"
   ]
  },
  {
   "cell_type": "code",
   "execution_count": null,
   "metadata": {},
   "outputs": [],
   "source": [
    "mobile[\"ROM_in_GB\"]=mobile[\"ROM_in_GB\"].apply(lambda z: z.replace(\"GB ROM\",\"\"))"
   ]
  },
  {
   "cell_type": "code",
   "execution_count": null,
   "metadata": {},
   "outputs": [],
   "source": [
    "mobile[\"Expandable_Memory\"]=mobile[\"Expandable_Memory\"].apply(lambda z: z.replace(\"Expandable Upto\",\"\"))"
   ]
  },
  {
   "cell_type": "code",
   "execution_count": null,
   "metadata": {},
   "outputs": [],
   "source": [
    "mobile[\"Battery_in_mAh\"]=mobile[\"Battery_in_mAh\"].apply(lambda z:z.replace(\"mAh\",\"\"))"
   ]
  },
  {
   "cell_type": "code",
   "execution_count": null,
   "metadata": {},
   "outputs": [],
   "source": [
    "mobile[\"Display_in_cm\"]=mobile[\"Display_in_cm\"].apply(lambda z:z.replace(\"cm\",\"\"))"
   ]
  },
  {
   "cell_type": "code",
   "execution_count": null,
   "metadata": {},
   "outputs": [],
   "source": [
    "mobile[\"colour\"]=mobile[\"colour\"].apply(lambda z:z.replace(\"()\",\"\"))"
   ]
  },
  {
   "cell_type": "markdown",
   "metadata": {},
   "source": [
    "## Type conversion"
   ]
  },
  {
   "cell_type": "code",
   "execution_count": null,
   "metadata": {},
   "outputs": [],
   "source": [
    "mobile[\"Display_in_cm\"]=mobile['Display_in_cm'].astype(float)"
   ]
  },
  {
   "cell_type": "code",
   "execution_count": null,
   "metadata": {},
   "outputs": [],
   "source": [
    "mobile[\"Battery_in_mAh\"]=mobile[\"Battery_in_mAh\"].astype(int)"
   ]
  },
  {
   "cell_type": "code",
   "execution_count": null,
   "metadata": {},
   "outputs": [],
   "source": [
    "mobile[\"Rating\"]=mobile[\"Rating\"].astype(float)"
   ]
  },
  {
   "cell_type": "code",
   "execution_count": null,
   "metadata": {},
   "outputs": [],
   "source": [
    "mobile[\"RAM_in_GB\"]=mobile[\"RAM_in_GB\"].astype(int)"
   ]
  },
  {
   "cell_type": "code",
   "execution_count": null,
   "metadata": {},
   "outputs": [],
   "source": [
    "mobile['ROM_in_GB']=mobile[\"ROM_in_GB\"].astype(int)"
   ]
  },
  {
   "cell_type": "code",
   "execution_count": null,
   "metadata": {},
   "outputs": [],
   "source": [
    "mobile.dtypes"
   ]
  },
  {
   "cell_type": "markdown",
   "metadata": {},
   "source": [
    "## For ordering our columns in an categorical manner"
   ]
  },
  {
   "cell_type": "code",
   "execution_count": null,
   "metadata": {},
   "outputs": [],
   "source": [
    "mobile=mobile[[\"Brand\",\"Model_Name\",\"colour\",\"Processor\",\"RAM_in_GB\",\"ROM_in_GB\",\"Expandable_Memory\",\"Battery_in_mAh\",\"Camera\",\"Display_in_cm\",\"Rating\",\"Price\"]]"
   ]
  },
  {
   "cell_type": "markdown",
   "metadata": {},
   "source": [
    "info describe shape\n",
    "columns isnull groupby \n",
    "\n",
    "\n",
    "\n",
    "grsphs uni=varuiate bivaruiate"
   ]
  },
  {
   "cell_type": "markdown",
   "metadata": {},
   "source": [
    "## Saving scraped data into csv file"
   ]
  },
  {
   "cell_type": "code",
   "execution_count": 2,
   "metadata": {},
   "outputs": [
    {
     "ename": "NameError",
     "evalue": "name 'mobile' is not defined",
     "output_type": "error",
     "traceback": [
      "\u001b[1;31m---------------------------------------------------------------------------\u001b[0m",
      "\u001b[1;31mNameError\u001b[0m                                 Traceback (most recent call last)",
      "\u001b[1;32m<ipython-input-2-8dac5820710b>\u001b[0m in \u001b[0;36m<module>\u001b[1;34m\u001b[0m\n\u001b[1;32m----> 1\u001b[1;33m \u001b[0mmobile\u001b[0m\u001b[1;33m.\u001b[0m\u001b[0mto_csv\u001b[0m\u001b[1;33m(\u001b[0m\u001b[1;34m\"mobile_details.csv\"\u001b[0m\u001b[1;33m)\u001b[0m\u001b[1;33m\u001b[0m\u001b[1;33m\u001b[0m\u001b[0m\n\u001b[0m",
      "\u001b[1;31mNameError\u001b[0m: name 'mobile' is not defined"
     ]
    }
   ],
   "source": [
    "mobile.to_csv(\"mobile_details.csv\")"
   ]
  },
  {
   "cell_type": "code",
   "execution_count": null,
   "metadata": {},
   "outputs": [],
   "source": [
    "mobile.head()"
   ]
  },
  {
   "cell_type": "code",
   "execution_count": null,
   "metadata": {},
   "outputs": [],
   "source": [
    "mobile.tail()"
   ]
  },
  {
   "cell_type": "markdown",
   "metadata": {},
   "source": [
    "## Here we have found  null value"
   ]
  },
  {
   "cell_type": "code",
   "execution_count": null,
   "metadata": {},
   "outputs": [],
   "source": [
    "mobile.info()"
   ]
  },
  {
   "cell_type": "markdown",
   "metadata": {},
   "source": [
    "## For finding out how many null values or count of null values I used sum function"
   ]
  },
  {
   "cell_type": "code",
   "execution_count": null,
   "metadata": {},
   "outputs": [],
   "source": [
    "mobile.isnull().sum() "
   ]
  },
  {
   "cell_type": "markdown",
   "metadata": {},
   "source": [
    "## Using fillna I have filled the null values and now our data is fully cleaned"
   ]
  },
  {
   "cell_type": "code",
   "execution_count": null,
   "metadata": {},
   "outputs": [],
   "source": [
    "mobile[\"Rating\"].fillna(\"4\", inplace = True) "
   ]
  },
  {
   "cell_type": "code",
   "execution_count": null,
   "metadata": {},
   "outputs": [],
   "source": [
    "mobile.isnull().sum()"
   ]
  },
  {
   "cell_type": "code",
   "execution_count": null,
   "metadata": {},
   "outputs": [],
   "source": [
    "mobile.describe()"
   ]
  },
  {
   "cell_type": "code",
   "execution_count": null,
   "metadata": {},
   "outputs": [],
   "source": [
    "mobile.shape"
   ]
  },
  {
   "cell_type": "code",
   "execution_count": null,
   "metadata": {},
   "outputs": [],
   "source": [
    "mobile.dtypes"
   ]
  },
  {
   "cell_type": "code",
   "execution_count": null,
   "metadata": {},
   "outputs": [],
   "source": [
    "mobile.groupby(by=[\"Model_Name\",\"Processor\"]).mean()"
   ]
  },
  {
   "cell_type": "code",
   "execution_count": null,
   "metadata": {},
   "outputs": [],
   "source": [
    "mobile.groupby(by=[\"Brand\",\"Model_Name\"]).sum()"
   ]
  },
  {
   "cell_type": "code",
   "execution_count": null,
   "metadata": {},
   "outputs": [],
   "source": [
    "mobile"
   ]
  },
  {
   "cell_type": "code",
   "execution_count": null,
   "metadata": {},
   "outputs": [],
   "source": [
    "mobile.columns"
   ]
  },
  {
   "cell_type": "code",
   "execution_count": null,
   "metadata": {},
   "outputs": [],
   "source": []
  }
 ],
 "metadata": {
  "kernelspec": {
   "display_name": "Python 3",
   "language": "python",
   "name": "python3"
  },
  "language_info": {
   "codemirror_mode": {
    "name": "ipython",
    "version": 3
   },
   "file_extension": ".py",
   "mimetype": "text/x-python",
   "name": "python",
   "nbconvert_exporter": "python",
   "pygments_lexer": "ipython3",
   "version": "3.8.5"
  }
 },
 "nbformat": 4,
 "nbformat_minor": 4
}
